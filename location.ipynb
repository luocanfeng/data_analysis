{
 "cells": [
  {
   "cell_type": "code",
   "execution_count": 58,
   "metadata": {
    "collapsed": false
   },
   "outputs": [
    {
     "name": "stdout",
     "output_type": "stream",
     "text": [
      "MongoClient(host=['10.82.0.1:27017'], document_class=dict, tz_aware=False, connect=True)\n"
     ]
    }
   ],
   "source": [
    "#-*- coding:utf-8 -*-\n",
    "from __future__ import division\n",
    "from pandas import Series, DataFrame\n",
    "import pandas as pd\n",
    "from numpy.random import randn\n",
    "import numpy as np\n",
    "pd.options.display.max_rows = 12\n",
    "np.set_printoptions(precision=4, suppress=True)\n",
    "import matplotlib.pyplot as plt\n",
    "plt.rc('figure', figsize=(12, 4))\n",
    "plt.rc('font',**{'family':'sans-serif','sans-serif':['AR PL KaitiM GB']})\n",
    "import pymongo_class as mongdb_class           \n",
    "get_mongo = mongdb_class.MongoClass('10.82.0.1',27017,'unicom','location');\n"
   ]
  },
  {
   "cell_type": "code",
   "execution_count": 2,
   "metadata": {
    "collapsed": true
   },
   "outputs": [],
   "source": [
    "%matplotlib inline"
   ]
  },
  {
   "cell_type": "code",
   "execution_count": 46,
   "metadata": {
    "collapsed": false
   },
   "outputs": [
    {
     "data": {
      "text/plain": [
       "121.2839"
      ]
     },
     "execution_count": 46,
     "metadata": {},
     "output_type": "execute_result"
    }
   ],
   "source": [
    "data_location = pd.read_csv('unicom/location_10000.csv',encoding='gbk')\n",
    "data_location.ix[1][2]                              "
   ]
  },
  {
   "cell_type": "code",
   "execution_count": 64,
   "metadata": {
    "collapsed": false
   },
   "outputs": [],
   "source": [
    "for i in range(len(data_location)):\n",
    "    temp = {}\n",
    "    temp['date'] = str(data_location['date'][i])\n",
    "    temp['IMEI'] = data_location['IMEI'][i]\n",
    "   \n",
    "    route = []\n",
    "    \n",
    "    for j in range(24):\n",
    "        arry = []\n",
    "        if np.isnan( data_location.ix[i][ j * 2 + 2]):\n",
    "            continue\n",
    "        arry.append(data_location.ix[i][ j * 2 + 2])\n",
    "        arry.append(data_location.ix[i][ j * 2 + 3])\n",
    "        route.append(arry)\n",
    "    temp['route'] = route\n",
    "    #get_mongo.insert_mongo({'date':data_location['date'][i],'IMEI':data_location['IMEI'][i],'route':route})\n",
    "    get_mongo.insert_mongo(temp)\n",
    "\n",
    " "
   ]
  }
 ],
 "metadata": {
  "anaconda-cloud": {},
  "kernelspec": {
   "display_name": "Python [default]",
   "language": "python",
   "name": "python2"
  },
  "language_info": {
   "codemirror_mode": {
    "name": "ipython",
    "version": 2
   },
   "file_extension": ".py",
   "mimetype": "text/x-python",
   "name": "python",
   "nbconvert_exporter": "python",
   "pygments_lexer": "ipython2",
   "version": "2.7.12"
  }
 },
 "nbformat": 4,
 "nbformat_minor": 1
}
